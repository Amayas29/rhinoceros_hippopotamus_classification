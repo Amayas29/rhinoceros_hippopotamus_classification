{
 "cells": [
  {
   "cell_type": "code",
   "execution_count": 68,
   "id": "ff24e081",
   "metadata": {},
   "outputs": [],
   "source": [
    "from utils import load_dataset, save_images"
   ]
  },
  {
   "cell_type": "code",
   "execution_count": 69,
   "id": "72750353",
   "metadata": {},
   "outputs": [],
   "source": [
    "train_images, train_labels = load_dataset(test=False, transform=True)\n",
    "test_images, test_labels = load_dataset(test=True, transform=True)"
   ]
  },
  {
   "cell_type": "code",
   "execution_count": 70,
   "id": "5a229bc6",
   "metadata": {},
   "outputs": [],
   "source": [
    "save_images(train_images, train_labels, test=False)\n",
    "save_images(test_images, test_labels, test=True)"
   ]
  }
 ],
 "metadata": {
  "kernelspec": {
   "display_name": "Python 3 (ipykernel)",
   "language": "python",
   "name": "python3"
  },
  "language_info": {
   "codemirror_mode": {
    "name": "ipython",
    "version": 3
   },
   "file_extension": ".py",
   "mimetype": "text/x-python",
   "name": "python",
   "nbconvert_exporter": "python",
   "pygments_lexer": "ipython3",
   "version": "3.9.12"
  }
 },
 "nbformat": 4,
 "nbformat_minor": 5
}

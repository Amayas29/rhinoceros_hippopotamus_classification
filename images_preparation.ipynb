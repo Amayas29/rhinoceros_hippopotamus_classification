{
 "cells": [
  {
   "cell_type": "code",
   "execution_count": 13,
   "id": "0f803b09",
   "metadata": {},
   "outputs": [],
   "source": [
    "import numpy as np\n",
    "import matplotlib.pyplot as plt\n",
    "import cv2\n",
    "import os\n",
    "\n",
    "from skimage.transform import resize"
   ]
  },
  {
   "cell_type": "code",
   "execution_count": 14,
   "id": "905711d3",
   "metadata": {},
   "outputs": [],
   "source": [
    "TRAIN_PATH_DATASET = \"./data/train/\"\n",
    "TEST_PATH_DATASET = \"./data/test/\"\n",
    "\n",
    "HIPPO_DIR = \"hippo/\"\n",
    "RHINO_DIR = \"rhino/\"\n",
    "\n",
    "IMG_SHAPE = (224, 224)"
   ]
  },
  {
   "cell_type": "code",
   "execution_count": 63,
   "id": "9e2be922",
   "metadata": {},
   "outputs": [],
   "source": [
    "def load_dataset(test=False, transform=False):\n",
    "    path_dataset = TEST_PATH_DATASET if test else TRAIN_PATH_DATASET\n",
    "    \n",
    "    hippo_path = os.path.join(path_dataset, HIPPO_DIR)\n",
    "    rhino_path = os.path.join(path_dataset, RHINO_DIR)\n",
    "    \n",
    "    hippo_images = []\n",
    "    rhino_images = []\n",
    "    \n",
    "    # Load Hippo images\n",
    "    for filename in os.listdir(hippo_path):\n",
    "        if filename.endswith(\".jpg\"):\n",
    "            img = cv2.imread(os.path.join(hippo_path, filename))\n",
    "            img = cv2.cvtColor(img, cv2.COLOR_BGR2GRAY)\n",
    "            \n",
    "            if transform:\n",
    "                img = resize(img, IMG_SHAPE, anti_aliasing=True)\n",
    "                \n",
    "            hippo_images.append(img)\n",
    "\n",
    "    # Load Rhino images\n",
    "    for filename in os.listdir(rhino_path):\n",
    "        if filename.endswith(\".jpg\"):\n",
    "            img = cv2.imread(os.path.join(rhino_path, filename))\n",
    "            img = cv2.cvtColor(img, cv2.COLOR_BGR2GRAY)\n",
    "            \n",
    "            if transform:\n",
    "                img = resize(img, IMG_SHAPE, anti_aliasing=True)\n",
    "                \n",
    "            rhino_images.append(img)\n",
    "\n",
    "    # Create corresponding labels (0 for hippo, 1 for rhino)\n",
    "    hippo_labels = np.zeros(len(hippo_images))\n",
    "    rhino_labels = np.ones(len(rhino_images))\n",
    "\n",
    "    # Combine images and labels\n",
    "    images = np.concatenate([hippo_images, rhino_images], axis=0)\n",
    "    labels = np.concatenate([hippo_labels, rhino_labels], axis=0)\n",
    "\n",
    "    return images, labels"
   ]
  },
  {
   "cell_type": "code",
   "execution_count": 30,
   "id": "1cbfacc5",
   "metadata": {},
   "outputs": [],
   "source": [
    "# train_images, train_labels = load_dataset(test=False)\n",
    "# test_images, test_labels = load_dataset(test=True)"
   ]
  },
  {
   "cell_type": "code",
   "execution_count": 52,
   "id": "19fdc6d6",
   "metadata": {},
   "outputs": [],
   "source": [
    "# Fonction pour sauvegarder les images à partir de tensors PyTorch\n",
    "def save_images(images, labels, test=False):\n",
    "    path_dataset = TEST_PATH_DATASET if test else TRAIN_PATH_DATASET\n",
    "\n",
    "    n_hippo = 1\n",
    "    n_rhino = 1\n",
    "    \n",
    "    # Convertir et sauvegarder chaque image\n",
    "    for i, image in enumerate(images):\n",
    "        img_dir = HIPPO_DIR if labels[i] == 0 else RHINO_DIR\n",
    "        n_img = n_hippo if labels[i] == 0 else n_rhino\n",
    "        \n",
    "        save_path = os.path.join(path_dataset, img_dir)\n",
    "\n",
    "        # Créer le chemin complet pour sauvegarder l'image\n",
    "        image_name = f\"{n_img}.jpg\"\n",
    "        image_path = os.path.join(save_path, image_name)\n",
    "\n",
    "        if labels[i] == 0:\n",
    "            n_hippo += 1\n",
    "        else:\n",
    "            n_rhino += 1\n",
    "            \n",
    "        image = image.reshape(*IMG_SHAPE, 1)\n",
    "\n",
    "        image = (image * 255).astype(np.uint8)\n",
    "        cv2.imwrite(image_path, image)"
   ]
  },
  {
   "cell_type": "code",
   "execution_count": 56,
   "id": "39133cbb",
   "metadata": {},
   "outputs": [],
   "source": [
    "# save_images(train_images, train_labels, test=False)\n",
    "# save_images(test_images, test_labels, test=True)"
   ]
  }
 ],
 "metadata": {
  "kernelspec": {
   "display_name": "Python 3 (ipykernel)",
   "language": "python",
   "name": "python3"
  },
  "language_info": {
   "codemirror_mode": {
    "name": "ipython",
    "version": 3
   },
   "file_extension": ".py",
   "mimetype": "text/x-python",
   "name": "python",
   "nbconvert_exporter": "python",
   "pygments_lexer": "ipython3",
   "version": "3.9.12"
  }
 },
 "nbformat": 4,
 "nbformat_minor": 5
}

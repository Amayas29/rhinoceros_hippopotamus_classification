{
  "cells": [
    {
      "cell_type": "code",
      "execution_count": 175,
      "metadata": {
        "colab": {
          "base_uri": "https://localhost:8080/"
        },
        "id": "743ff2e5",
        "outputId": "cedf94a7-fdd4-4830-b5dd-091fba6dcdb9"
      },
      "outputs": [
        {
          "output_type": "stream",
          "name": "stdout",
          "text": [
            "Drive already mounted at /content/drive; to attempt to forcibly remount, call drive.mount(\"/content/drive\", force_remount=True).\n"
          ]
        }
      ],
      "source": [
        "from google.colab import drive\n",
        "drive.mount('/content/drive')\n"
      ],
      "id": "743ff2e5"
    },
    {
      "cell_type": "code",
      "execution_count": 176,
      "metadata": {
        "id": "MXuiI3-C8zwv"
      },
      "outputs": [],
      "source": [
        "file_path =  \"drive/MyDrive/REDS_DATA/utils.py\"\n",
        "exec(open(file_path).read())"
      ],
      "id": "MXuiI3-C8zwv"
    },
    {
      "cell_type": "code",
      "execution_count": 177,
      "metadata": {
        "id": "5kbRA-io7D67"
      },
      "outputs": [],
      "source": [
        "from transformers import ViTForImageClassification,ViTConfig, ViTImageProcessor\n",
        "import torch\n",
        "import numpy as np\n",
        "from torch import nn, optim\n",
        "from torch.utils.data import DataLoader,TensorDataset\n",
        "from torchvision import transforms\n",
        "from tqdm import tqdm\n",
        "from torchmetrics.functional import accuracy\n",
        "import matplotlib.pyplot as plt"
      ],
      "id": "5kbRA-io7D67"
    },
    {
      "cell_type": "code",
      "execution_count": 178,
      "metadata": {
        "id": "RC6z-WGkCXjc"
      },
      "outputs": [],
      "source": [
        "import os\n",
        "import cv2\n",
        "import numpy as np\n",
        "from pathlib import Path\n",
        "from skimage.transform import resize\n",
        "\n",
        "TRAIN_PATH_DATASET = \"drive/MyDrive/REDS_DATA/data/train/\"\n",
        "TEST_PATH_DATASET = \"drive/MyDrive/REDS_DATA/data/test/\"\n",
        "\n",
        "HIPPO_DIR = \"hippo/\"\n",
        "RHINO_DIR = \"rhino/\"\n",
        "\n",
        "IMG_SHAPE = (224, 224)\n",
        "\n",
        "def load_dataset(test=False, transform=False):\n",
        "    path_dataset = TEST_PATH_DATASET if test else TRAIN_PATH_DATASET\n",
        "\n",
        "    hippo_path = os.path.join(path_dataset, HIPPO_DIR)\n",
        "    rhino_path = os.path.join(path_dataset, RHINO_DIR)\n",
        "\n",
        "    hippo_images = []\n",
        "    rhino_images = []\n",
        "\n",
        "    # Load Hippo images\n",
        "    for filename in os.listdir(hippo_path):\n",
        "        if filename.endswith(\".jpg\"):\n",
        "            img = cv2.imread(os.path.join(hippo_path, filename))\n",
        "            img = cv2.cvtColor(img, cv2.COLOR_BGR2GRAY)\n",
        "\n",
        "            if transform:\n",
        "                img = resize(img, IMG_SHAPE, anti_aliasing=True)\n",
        "\n",
        "            hippo_images.append(img)\n",
        "\n",
        "    # Load Rhino images\n",
        "    for filename in os.listdir(rhino_path):\n",
        "        if filename.endswith(\".jpg\"):\n",
        "            img = cv2.imread(os.path.join(rhino_path, filename))\n",
        "            img = cv2.cvtColor(img, cv2.COLOR_BGR2GRAY)\n",
        "\n",
        "            if transform:\n",
        "                img = resize(img, IMG_SHAPE, anti_aliasing=True)\n",
        "\n",
        "            rhino_images.append(img)\n",
        "\n",
        "    # Create corresponding labels (0 for hippo, 1 for rhino)\n",
        "    hippo_labels = np.zeros(len(hippo_images))\n",
        "    rhino_labels = np.ones(len(rhino_images))\n",
        "\n",
        "    # Combine images and labels\n",
        "    images = np.concatenate([hippo_images, rhino_images], axis=0)\n",
        "    labels = np.concatenate([hippo_labels, rhino_labels], axis=0)\n",
        "\n",
        "    return images, labels\n",
        "\n",
        "\n",
        "# Fonction pour sauvegarder les images à partir de array\n",
        "def save_images(images, labels, test=False):\n",
        "    path_dataset = TEST_PATH_DATASET if test else TRAIN_PATH_DATASET\n",
        "\n",
        "    n_hippo = 1\n",
        "    n_rhino = 1\n",
        "\n",
        "    # Convertir et sauvegarder chaque image\n",
        "    for i, image in enumerate(images):\n",
        "        img_dir = HIPPO_DIR if labels[i] == 0 else RHINO_DIR\n",
        "        n_img = n_hippo if labels[i] == 0 else n_rhino\n",
        "\n",
        "        save_path = os.path.join(path_dataset, img_dir)\n",
        "\n",
        "        # Créer le chemin complet pour sauvegarder l'image\n",
        "        image_name = f\"{n_img}.jpg\"\n",
        "        image_path = os.path.join(save_path, image_name)\n",
        "\n",
        "        if labels[i] == 0:\n",
        "            n_hippo += 1\n",
        "        else:\n",
        "            n_rhino += 1\n",
        "\n",
        "        image = image.reshape(*IMG_SHAPE, 1)\n",
        "\n",
        "        image = (image * 255).astype(np.uint8)\n",
        "        cv2.imwrite(image_path, image)"
      ],
      "id": "RC6z-WGkCXjc"
    },
    {
      "cell_type": "code",
      "source": [
        "save_path = Path(\"model.pch\")\n",
        "model = ViTForImageClassification.from_pretrained('google/vit-base-patch16-224')\n",
        "\n",
        "processor = ViTImageProcessor.from_pretrained('google/vit-base-patch16-224')\n",
        "\n",
        "\n",
        "\n",
        "#Frizer le model\n",
        "for parameter in  model.parameters() :\n",
        "  parameter.requires_grad = False\n",
        "\n",
        "#changer la derniere couche\n",
        "nb_classe = 2\n",
        "model.classifier = nn.Linear(model.config.hidden_size, nb_classe)"
      ],
      "metadata": {
        "id": "3kEOfFMqzatT"
      },
      "id": "3kEOfFMqzatT",
      "execution_count": 179,
      "outputs": []
    },
    {
      "cell_type": "code",
      "execution_count": 180,
      "metadata": {
        "id": "0ae9f6b7"
      },
      "outputs": [],
      "source": [
        "train_images,label_train = load_dataset()\n",
        "test_images,test_label = load_dataset(test =True)\n",
        "\n",
        "transform_data = transforms.Compose([\n",
        "    transforms.ToTensor(),\n",
        "    transforms.Normalize(mean=[0.5], std=[0.5]),\n",
        "])\n",
        "\n",
        "tensor_tr = torch.stack([transform_data(image) for image in train_images])\n",
        "tensor_ts = torch.stack([transform_data(image) for image in test_images])\n",
        "\n",
        "\n",
        "tensor_test = tensor_ts.expand(-1, 3, -1, -1).to(torch.float32)\n",
        "tensor_train = tensor_tr.expand(-1, 3, -1, -1).to(torch.float32)\n",
        "\n",
        "train_tensor = TensorDataset(tensor_train,torch.tensor(label_train, dtype = torch.long))\n",
        "test_tensor = TensorDataset(tensor_test,torch.tensor(test_label, dtype = torch.long))\n",
        "\n",
        "BATCH_SIZE = 32\n",
        "\n",
        "\n",
        "Train = DataLoader(train_tensor,shuffle=True, batch_size = BATCH_SIZE)\n",
        "Test = DataLoader(test_tensor,shuffle = False)"
      ],
      "id": "0ae9f6b7"
    },
    {
      "cell_type": "code",
      "execution_count": 181,
      "metadata": {
        "id": "81d58d95"
      },
      "outputs": [],
      "source": [
        "loss = nn.CrossEntropyLoss()\n",
        "optimizer = optim.Adam(model.parameters(),lr = 1e-3)\n",
        "device = torch.device('cuda' if torch.cuda.is_available()  else 'cpu')"
      ],
      "id": "81d58d95"
    },
    {
      "cell_type": "code",
      "execution_count": 182,
      "metadata": {
        "colab": {
          "base_uri": "https://localhost:8080/"
        },
        "id": "acd15b2e",
        "outputId": "8920a3bd-4377-41a2-c9a8-d75f1fbc0752"
      },
      "outputs": [
        {
          "output_type": "stream",
          "name": "stderr",
          "text": [
            "Epoch 1/10:   0%|          | 0/25 [00:00<?, ?it/s]\n",
            "Epoch 1/10:   0%|          | 0/200 [00:00<?, ?it/s]\u001b[A\n",
            "\n",
            "Epoch 2/10:   0%|          | 0/25 [00:00<?, ?it/s]\n",
            "\n",
            "Epoch 2/10:   0%|          | 0/200 [00:00<?, ?it/s]\u001b[A\u001b[A\n",
            "Epoch 3/10:   0%|          | 0/25 [00:00<?, ?it/s]\n",
            "Epoch 3/10:   0%|          | 0/200 [00:00<?, ?it/s]\u001b[A\n",
            "\n",
            "Epoch 4/10:   0%|          | 0/25 [00:00<?, ?it/s]\n",
            "\n",
            "Epoch 4/10:   0%|          | 0/200 [00:00<?, ?it/s]\u001b[A\u001b[A\n",
            "Epoch 5/10:   0%|          | 0/25 [00:00<?, ?it/s]\n",
            "Epoch 5/10:   0%|          | 0/200 [00:00<?, ?it/s]\u001b[A\n",
            "\n",
            "Epoch 6/10:   0%|          | 0/25 [00:00<?, ?it/s]\n",
            "\n",
            "Epoch 6/10:   0%|          | 0/200 [00:00<?, ?it/s]\u001b[A\u001b[A\n",
            "Epoch 7/10:   0%|          | 0/25 [00:00<?, ?it/s]\n",
            "Epoch 7/10:   0%|          | 0/200 [00:00<?, ?it/s]\u001b[A\n",
            "\n",
            "Epoch 8/10:   0%|          | 0/25 [00:00<?, ?it/s]\n",
            "\n",
            "Epoch 8/10:   0%|          | 0/200 [00:00<?, ?it/s]\u001b[A\u001b[A\n",
            "Epoch 9/10:   0%|          | 0/25 [00:00<?, ?it/s]\n",
            "Epoch 9/10:   0%|          | 0/200 [00:00<?, ?it/s]\u001b[A\n",
            "\n",
            "Epoch 10/10:   0%|          | 0/25 [00:00<?, ?it/s]\n",
            "\n",
            "Epoch 10/10:   0%|          | 0/200 [00:00<?, ?it/s]\u001b[A\u001b[A\n"
          ]
        }
      ],
      "source": [
        "num_epochs = 10\n",
        "model = model.to(device)\n",
        "accuracy_train = []\n",
        "loss_train = []\n",
        "\n",
        "accuracy_test = []\n",
        "loss_test = []\n",
        "\n",
        "\n",
        "for epoch in range(num_epochs):\n",
        "  acc_accuracy_train = 0\n",
        "  acc_accuracy_test = 0\n",
        "  acc_loss_train = 0\n",
        "  acc_loss_test = 0\n",
        "  data_train_tqdm = tqdm(Train,desc=f'Epoch {epoch + 1}/{num_epochs}', leave=False, dynamic_ncols=True)\n",
        "  data_test_tqdm = tqdm(Test,desc=f'Epoch {epoch + 1}/{num_epochs}',leave = False,dynamic_ncols=True)\n",
        "  for data,label in data_train_tqdm:\n",
        "      # Forward pass\n",
        "      data = data.to(device)\n",
        "      label = label.to(device)\n",
        "      outputs = model(data)\n",
        "      prediction = outputs.logits\n",
        "      predict_final = torch.argmax(prediction, axis = 1)\n",
        "      acc_accuracy_train += accuracy(predict_final,label, task = \"BINARY\")\n",
        "      loss_ = loss(prediction, label)\n",
        "      acc_loss_train += loss_.item()\n",
        "      optimizer.zero_grad()\n",
        "      loss_.backward()\n",
        "      optimizer.step()\n",
        "      if epoch %  3 == 0 :\n",
        "        with save_path.open('wb') as fp :\n",
        "          torch.save(model,fp)\n",
        "  acc = (acc_accuracy_train / len(Train))\n",
        "  accuracy_train.append(acc)\n",
        "  loss_train.append(acc_loss_train)\n",
        "\n",
        "\n",
        "  with torch.no_grad() :\n",
        "    for data_test,label_test in Test :\n",
        "      data_test = data_test.to(device)\n",
        "      label_test = label_test.to(device)\n",
        "      output = model(data_test)\n",
        "      prediction = output.logits\n",
        "      acc_loss_test += loss(prediction,label_test).item()\n",
        "      acc_accuracy_test += accuracy(torch.argmax(prediction,axis = 1),label_test,task = \"BINARY\")\n",
        "  accuracy_test.append(acc_accuracy_test/len(Test))\n",
        "  loss_test.append(acc_loss_test)\n",
        "\n",
        "\n"
      ],
      "id": "acd15b2e"
    },
    {
      "cell_type": "code",
      "source": [
        "list_acc_train = [acc.item() for acc in accuracy_train]\n",
        "list_acc_test = [acc.item() for acc in accuracy_test]"
      ],
      "metadata": {
        "id": "K89yJgDnQq-K"
      },
      "id": "K89yJgDnQq-K",
      "execution_count": 183,
      "outputs": []
    },
    {
      "cell_type": "code",
      "execution_count": 184,
      "metadata": {
        "id": "xKzseIhIXF_2",
        "colab": {
          "base_uri": "https://localhost:8080/",
          "height": 391
        },
        "outputId": "0e244e09-e619-4e1e-9321-1d0f7e1276f1"
      },
      "outputs": [
        {
          "output_type": "execute_result",
          "data": {
            "text/plain": [
              "[<matplotlib.lines.Line2D at 0x7dde690e8fd0>]"
            ]
          },
          "metadata": {},
          "execution_count": 184
        },
        {
          "output_type": "display_data",
          "data": {
            "text/plain": [
              "<Figure size 1200x600 with 2 Axes>"
            ],
            "image/png": "[encoded data removed]"
          },
          "metadata": {}
        }
      ],
      "source": [
        "plt.figure(figsize=(12, 6))\n",
        "epochs = range(1,num_epochs+1)\n",
        "\n",
        "plt.subplot(1,2,1)\n",
        "plt.plot(epochs,loss_train, label = \"train loss\")\n",
        "plt.plot(epochs,list_acc_train,label = \"accuracy train\")\n",
        "plt.subplot(1,2,2)\n",
        "plt.plot(epochs,loss_test, label = \"test loss\")\n",
        "plt.plot(epochs,list_acc_test,label = \"accuracy test\")\n"
      ],
      "id": "xKzseIhIXF_2"
    }
  ],
  "metadata": {
    "colab": {
      "provenance": [],
      "gpuType": "T4"
    },
    "kernelspec": {
      "display_name": "Python 3",
      "name": "python3"
    },
    "language_info": {
      "codemirror_mode": {
        "name": "ipython",
        "version": 3
      },
      "file_extension": ".py",
      "mimetype": "text/x-python",
      "name": "python",
      "nbconvert_exporter": "python",
      "pygments_lexer": "ipython3",
      "version": "3.8.10"
    },
    "accelerator": "GPU"
  },
  "nbformat": 4,
  "nbformat_minor": 5
}
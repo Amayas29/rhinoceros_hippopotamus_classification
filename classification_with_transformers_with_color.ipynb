{
  "cells": [
    {
      "cell_type": "code",
      "execution_count": null,
      "metadata": {
        "colab": {
          "base_uri": "https://localhost:8080/"
        },
        "id": "743ff2e5",
        "outputId": "a4a8213d-c396-4147-ab06-530082c0758a"
      },
      "outputs": [
        {
          "output_type": "stream",
          "name": "stdout",
          "text": [
            "Mounted at /content/drive\n"
          ]
        }
      ],
      "source": [
        "from google.colab import drive\n",
        "\n",
        "drive.mount(\"/content/drive\",force_remount=True)"
      ],
      "id": "743ff2e5"
    },
    {
      "cell_type": "code",
      "execution_count": 1,
      "metadata": {
        "colab": {
          "base_uri": "https://localhost:8080/"
        },
        "id": "MXuiI3-C8zwv",
        "outputId": "ed720ccb-0a15-4f57-f750-2762bd3e0d0e"
      },
      "outputs": [
        {
          "output_type": "stream",
          "name": "stdout",
          "text": [
            "Mounted at /content/gdrive\n",
            "/content/gdrive/MyDrive/rhinoceros_hippopotamus_classification\n"
          ]
        }
      ],
      "source": [
        "import sys\n",
        "#sys.path.append(\"/content/drive/MyDrive/\")\n",
        "from google.colab import drive\n",
        "drive.mount('/content/gdrive')\n",
        "%cd gdrive/MyDrive/rhinoceros_hippopotamus_classification\n"
      ],
      "id": "MXuiI3-C8zwv"
    },
    {
      "cell_type": "code",
      "source": [
        "!pip install torchmetrics"
      ],
      "metadata": {
        "colab": {
          "base_uri": "https://localhost:8080/"
        },
        "id": "yGIlllYaV2We",
        "outputId": "9fdfea6a-5f1f-4e4a-d957-f61694378ccd"
      },
      "id": "yGIlllYaV2We",
      "execution_count": 2,
      "outputs": [
        {
          "output_type": "stream",
          "name": "stdout",
          "text": [
            "Collecting torchmetrics\n",
            "  Downloading torchmetrics-1.3.0.post0-py3-none-any.whl (840 kB)\n",
            "\u001b[2K     \u001b[90m━━━━━━━━━━━━━━━━━━━━━━━━━━━━━━━━━━━━━━━━\u001b[0m \u001b[32m840.2/840.2 kB\u001b[0m \u001b[31m8.9 MB/s\u001b[0m eta \u001b[36m0:00:00\u001b[0m\n",
            "\u001b[?25hRequirement already satisfied: numpy>1.20.0 in /usr/local/lib/python3.10/dist-packages (from torchmetrics) (1.23.5)\n",
            "Requirement already satisfied: packaging>17.1 in /usr/local/lib/python3.10/dist-packages (from torchmetrics) (23.2)\n",
            "Requirement already satisfied: torch>=1.10.0 in /usr/local/lib/python3.10/dist-packages (from torchmetrics) (2.1.0+cu121)\n",
            "Collecting lightning-utilities>=0.8.0 (from torchmetrics)\n",
            "  Downloading lightning_utilities-0.10.1-py3-none-any.whl (24 kB)\n",
            "Requirement already satisfied: setuptools in /usr/local/lib/python3.10/dist-packages (from lightning-utilities>=0.8.0->torchmetrics) (67.7.2)\n",
            "Requirement already satisfied: typing-extensions in /usr/local/lib/python3.10/dist-packages (from lightning-utilities>=0.8.0->torchmetrics) (4.5.0)\n",
            "Requirement already satisfied: filelock in /usr/local/lib/python3.10/dist-packages (from torch>=1.10.0->torchmetrics) (3.13.1)\n",
            "Requirement already satisfied: sympy in /usr/local/lib/python3.10/dist-packages (from torch>=1.10.0->torchmetrics) (1.12)\n",
            "Requirement already satisfied: networkx in /usr/local/lib/python3.10/dist-packages (from torch>=1.10.0->torchmetrics) (3.2.1)\n",
            "Requirement already satisfied: jinja2 in /usr/local/lib/python3.10/dist-packages (from torch>=1.10.0->torchmetrics) (3.1.3)\n",
            "Requirement already satisfied: fsspec in /usr/local/lib/python3.10/dist-packages (from torch>=1.10.0->torchmetrics) (2023.6.0)\n",
            "Requirement already satisfied: triton==2.1.0 in /usr/local/lib/python3.10/dist-packages (from torch>=1.10.0->torchmetrics) (2.1.0)\n",
            "Requirement already satisfied: MarkupSafe>=2.0 in /usr/local/lib/python3.10/dist-packages (from jinja2->torch>=1.10.0->torchmetrics) (2.1.4)\n",
            "Requirement already satisfied: mpmath>=0.19 in /usr/local/lib/python3.10/dist-packages (from sympy->torch>=1.10.0->torchmetrics) (1.3.0)\n",
            "Installing collected packages: lightning-utilities, torchmetrics\n",
            "Successfully installed lightning-utilities-0.10.1 torchmetrics-1.3.0.post0\n"
          ]
        }
      ]
    },
    {
      "cell_type": "code",
      "execution_count": 3,
      "metadata": {
        "id": "5kbRA-io7D67",
        "colab": {
          "base_uri": "https://localhost:8080/"
        },
        "outputId": "cf258310-f5e8-442f-ecde-9eed867b72cc"
      },
      "outputs": [
        {
          "output_type": "stream",
          "name": "stdout",
          "text": [
            "/content/gdrive/MyDrive/rhinoceros_hippopotamus_classification/data\n"
          ]
        }
      ],
      "source": [
        "from transformers import ViTForImageClassification,ViTConfig, ViTImageProcessor\n",
        "import torch\n",
        "import numpy as np\n",
        "from torch import nn, optim\n",
        "from torch.utils.data import DataLoader,TensorDataset\n",
        "from torchvision import transforms\n",
        "from tqdm import tqdm\n",
        "from torchmetrics.functional import accuracy\n",
        "import matplotlib.pyplot as plt\n",
        "from pathlib import Path\n",
        "from torch.utils.data import random_split\n",
        "from sklearn.model_selection import train_test_split\n",
        "\n",
        "from utils import load_dataset\n",
        "%cd data"
      ],
      "id": "5kbRA-io7D67"
    },
    {
      "cell_type": "code",
      "execution_count": 10,
      "metadata": {
        "id": "3kEOfFMqzatT"
      },
      "outputs": [],
      "source": [
        "save_path = Path(\"model_vit_c.pch\")\n",
        "model = ViTForImageClassification.from_pretrained('google/vit-base-patch16-224')\n",
        "processor = ViTImageProcessor.from_pretrained('google/vit-base-patch16-224')\n",
        "\n",
        "# Freeze le model\n",
        "for parameter in  model.parameters() :\n",
        "  parameter.requires_grad = False\n",
        "\n",
        "# Changer la derniere couche\n",
        "nb_classe = 2\n",
        "model.classifier = nn.Linear(model.config.hidden_size, nb_classe)"
      ],
      "id": "3kEOfFMqzatT"
    },
    {
      "cell_type": "code",
      "execution_count": 12,
      "metadata": {
        "id": "0ae9f6b7"
      },
      "outputs": [],
      "source": [
        "from sklearn.model_selection import train_test_split\n",
        "\n",
        "train_images, train_labels = load_dataset(test=False, color=True)\n",
        "test_images, test_labels = load_dataset(test=True, color=True)\n",
        "\n",
        "train_images, validation_images, train_labels, validation_labels = train_test_split(\n",
        "    train_images, train_labels, shuffle=True, test_size=0.2\n",
        ")\n",
        "\n",
        "transform_data = transforms.Compose([\n",
        "    transforms.ToTensor(),\n",
        "    transforms.Normalize(mean=[0.5], std=[0.5]),\n",
        "])\n",
        "\n",
        "tensor_tr = torch.stack([transform_data(image) for image in train_images])\n",
        "tensor_val = torch.stack([transform_data(image) for image in validation_images])\n",
        "tensor_ts = torch.stack([transform_data(image) for image in test_images])\n",
        "\n",
        "tensor_train = tensor_tr.expand(-1, 3, -1, -1).to(torch.float32)\n",
        "tensor_validation = tensor_val.expand(-1, 3, -1, -1).to(torch.float32)\n",
        "tensor_test = tensor_ts.expand(-1, 3, -1, -1).to(torch.float32)\n",
        "\n",
        "train_tensor = TensorDataset(tensor_train, torch.tensor(train_labels, dtype=torch.long))\n",
        "validation_tensor = TensorDataset(tensor_validation, torch.tensor(validation_labels, dtype=torch.long))\n",
        "test_tensor = TensorDataset(tensor_test, torch.tensor(test_labels, dtype=torch.long))\n",
        "\n",
        "BATCH_SIZE = 64\n",
        "\n",
        "Train = DataLoader(train_tensor, shuffle=True, batch_size=BATCH_SIZE)\n",
        "Validation = DataLoader(validation_tensor, shuffle=False, batch_size=BATCH_SIZE)\n",
        "Test = DataLoader(test_tensor, shuffle=False, batch_size=BATCH_SIZE)\n"
      ],
      "id": "0ae9f6b7"
    },
    {
      "cell_type": "code",
      "execution_count": 13,
      "metadata": {
        "id": "81d58d95"
      },
      "outputs": [],
      "source": [
        "loss = nn.CrossEntropyLoss()\n",
        "optimizer = optim.Adam(model.parameters(),lr = 1e-3)\n",
        "device = torch.device('cuda' if torch.cuda.is_available()  else 'cpu')"
      ],
      "id": "81d58d95"
    },
    {
      "cell_type": "code",
      "execution_count": 14,
      "metadata": {
        "id": "acd15b2e",
        "colab": {
          "base_uri": "https://localhost:8080/"
        },
        "outputId": "52685fa9-a4f7-4a49-d284-01553967c91d"
      },
      "outputs": [
        {
          "output_type": "stream",
          "name": "stderr",
          "text": []
        }
      ],
      "source": [
        "num_epochs = 10\n",
        "model = model.to(device)\n",
        "accuracy_train = []\n",
        "loss_train = []\n",
        "\n",
        "accuracy_validation = []\n",
        "loss_validation = []\n",
        "\n",
        "for epoch in range(num_epochs):\n",
        "  acc_accuracy_train = 0\n",
        "  acc_accuracy_test = 0\n",
        "  acc_loss_train = 0\n",
        "  acc_loss_test = 0\n",
        "  data_train_tqdm = tqdm(Train,desc=f'Epoch {epoch + 1}/{num_epochs}', leave=False, dynamic_ncols=True)\n",
        "\n",
        "  for data,label in data_train_tqdm:\n",
        "      # Forward pass\n",
        "      data = data.to(device)\n",
        "      label = label.to(device)\n",
        "      outputs = model(data)\n",
        "      prediction = outputs.logits\n",
        "      predict_final = torch.argmax(prediction, axis = 1)\n",
        "      acc_accuracy_train += accuracy(predict_final,label, task = \"BINARY\")\n",
        "      loss_ = loss(prediction, label)\n",
        "      acc_loss_train += loss_.item()\n",
        "      optimizer.zero_grad()\n",
        "      loss_.backward()\n",
        "      optimizer.step()\n",
        "\n",
        "  if epoch +1 == num_epochs :\n",
        "    with save_path.open('wb') as fp :\n",
        "      torch.save(model,fp)\n",
        "\n",
        "  acc = (acc_accuracy_train / len(Train))\n",
        "  accuracy_train.append(acc)\n",
        "  loss_train.append(acc_loss_train)\n",
        "\n",
        "\n",
        "  with torch.no_grad() :\n",
        "    for data_val,label_test in Validation :\n",
        "      data_val = data_val.to(device)\n",
        "      label_test = label_test.to(device)\n",
        "      output = model(data_val)\n",
        "      prediction = output.logits\n",
        "      acc_loss_test += loss(prediction,label_test).item()\n",
        "      acc_accuracy_test += accuracy(torch.argmax(prediction,axis = 1),label_test,task = \"BINARY\")\n",
        "\n",
        "  accuracy_validation.append(acc_accuracy_test/len(Validation))\n",
        "  loss_validation.append(acc_loss_test)"
      ],
      "id": "acd15b2e"
    },
    {
      "cell_type": "code",
      "execution_count": 15,
      "metadata": {
        "id": "K89yJgDnQq-K"
      },
      "outputs": [],
      "source": [
        "list_acc_train = [acc.item() for acc in accuracy_train]\n",
        "list_acc_val = [acc.item() for acc in accuracy_validation]"
      ],
      "id": "K89yJgDnQq-K"
    },
    {
      "cell_type": "code",
      "execution_count": 16,
      "metadata": {
        "id": "xKzseIhIXF_2",
        "colab": {
          "base_uri": "https://localhost:8080/",
          "height": 607
        },
        "outputId": "a3af8b9a-c05e-4fda-9692-cd99c5e6fff2"
      },
      "outputs": [
        {
          "output_type": "display_data",
          "data": {
            "text/plain": [
              "<Figure size 1500x600 with 2 Axes>"
            ],
            "image/png": "[encoded data removed]"
          },
          "metadata": {}
        }
      ],
      "source": [
        "epochs = range(1,num_epochs+1)\n",
        "plt.figure(figsize=(15, 6))\n",
        "plt.subplot(1, 2, 1)  # 2 rows, 1 column, this is the first subplot\n",
        "plt.plot(epochs, loss_train, label='Train Loss')\n",
        "plt.plot(epochs, loss_validation, label='Validation Loss', linestyle='--')\n",
        "plt.xlabel('Époques')\n",
        "plt.ylabel('Perte')\n",
        "plt.legend()\n",
        "\n",
        "plt.subplot(1, 2, 2)  # 2 rows, 1 column, this is the second subplot\n",
        "plt.plot(epochs, list_acc_train, label='Train Accuracy')\n",
        "plt.plot(epochs, list_acc_val, label='Validation Accuracy', linestyle='--')\n",
        "plt.xlabel('Époques')\n",
        "plt.ylabel('Précision')\n",
        "plt.legend()\n",
        "\n",
        "# Subplot for Loss\n",
        "\n",
        "plt.tight_layout()\n",
        "plt.savefig('Loss_Acc_VIT_No_Color.png')\n",
        "plt.show()"
      ],
      "id": "xKzseIhIXF_2"
    },
    {
      "cell_type": "code",
      "execution_count": 17,
      "metadata": {
        "id": "3vaIWqcvYA9E",
        "colab": {
          "base_uri": "https://localhost:8080/"
        },
        "outputId": "110c775d-419e-4b0e-ca57-cb7adc363051"
      },
      "outputs": [
        {
          "output_type": "stream",
          "name": "stdout",
          "text": [
            "l accuracy de test est de : 1.0\n"
          ]
        }
      ],
      "source": [
        "tensor_test = tensor_test.to(device)\n",
        "prediction = torch.argmax(model(tensor_test).logits,dim = 1)\n",
        "accuracy_test = accuracy(prediction,torch.tensor(test_labels, dtype=torch.long,device = device),task = \"BINARY\")\n",
        "print('l accuracy de test est de :', accuracy_test.item())"
      ],
      "id": "3vaIWqcvYA9E"
    }
  ],
  "metadata": {
    "accelerator": "GPU",
    "colab": {
      "provenance": []
    },
    "kernelspec": {
      "display_name": "Python 3",
      "name": "python3"
    },
    "language_info": {
      "codemirror_mode": {
        "name": "ipython",
        "version": 3
      },
      "file_extension": ".py",
      "mimetype": "text/x-python",
      "name": "python",
      "nbconvert_exporter": "python",
      "pygments_lexer": "ipython3",
      "version": "3.9.12"
    }
  },
  "nbformat": 4,
  "nbformat_minor": 5
}
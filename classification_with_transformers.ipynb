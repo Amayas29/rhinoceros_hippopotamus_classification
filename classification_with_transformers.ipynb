{
  "cells": [
    {
      "cell_type": "code",
      "execution_count": 196,
      "id": "743ff2e5",
      "metadata": {
        "colab": {
          "base_uri": "https://localhost:8080/"
        },
        "id": "743ff2e5",
        "outputId": "2fc703bf-af93-4535-ea9c-9a909cbd1c81"
      },
      "outputs": [
        {
          "name": "stdout",
          "output_type": "stream",
          "text": [
            "Drive already mounted at /content/drive; to attempt to forcibly remount, call drive.mount(\"/content/drive\", force_remount=True).\n"
          ]
        }
      ],
      "source": [
        "from google.colab import drive\n",
        "drive.mount(\"/content/drive\")"
      ]
    },
    {
      "cell_type": "code",
      "execution_count": 197,
      "id": "MXuiI3-C8zwv",
      "metadata": {
        "id": "MXuiI3-C8zwv"
      },
      "outputs": [],
      "source": [
        "import sys\n",
        "sys.path.append(\"/content/drive/MyDrive/\")"
      ]
    },
    {
      "cell_type": "code",
      "execution_count": 1,
      "id": "5kbRA-io7D67",
      "metadata": {
        "id": "5kbRA-io7D67"
      },
      "outputs": [
        {
          "name": "stderr",
          "output_type": "stream",
          "text": [
            "2024-01-11 14:50:46.095487: I tensorflow/core/util/port.cc:110] oneDNN custom operations are on. You may see slightly different numerical results due to floating-point round-off errors from different computation orders. To turn them off, set the environment variable `TF_ENABLE_ONEDNN_OPTS=0`.\n",
            "2024-01-11 14:50:46.123969: I tensorflow/tsl/cuda/cudart_stub.cc:28] Could not find cuda drivers on your machine, GPU will not be used.\n",
            "2024-01-11 14:50:46.356168: I tensorflow/tsl/cuda/cudart_stub.cc:28] Could not find cuda drivers on your machine, GPU will not be used.\n",
            "2024-01-11 14:50:46.357403: I tensorflow/core/platform/cpu_feature_guard.cc:182] This TensorFlow binary is optimized to use available CPU instructions in performance-critical operations.\n",
            "To enable the following instructions: AVX2 AVX512F AVX512_VNNI FMA, in other operations, rebuild TensorFlow with the appropriate compiler flags.\n",
            "2024-01-11 14:50:47.202286: W tensorflow/compiler/tf2tensorrt/utils/py_utils.cc:38] TF-TRT Warning: Could not find TensorRT\n",
            "/home/amayas/anaconda3/lib/python3.9/site-packages/scipy/__init__.py:146: UserWarning: A NumPy version >=1.17.3 and <1.25.0 is required for this version of SciPy (detected version 1.26.2\n",
            "  warnings.warn(f\"A NumPy version >={np_minversion} and <{np_maxversion}\"\n"
          ]
        }
      ],
      "source": [
        "from transformers import ViTForImageClassification,ViTConfig, ViTImageProcessor\n",
        "import torch\n",
        "import numpy as np\n",
        "from torch import nn, optim\n",
        "from torch.utils.data import DataLoader,TensorDataset\n",
        "from torchvision import transforms\n",
        "from tqdm import tqdm\n",
        "from torchmetrics.functional import accuracy\n",
        "import matplotlib.pyplot as plt\n",
        "from pathlib import Path\n",
        "\n",
        "from utils import load_dataset"
      ]
    },
    {
      "cell_type": "code",
      "execution_count": 2,
      "id": "3kEOfFMqzatT",
      "metadata": {
        "id": "3kEOfFMqzatT"
      },
      "outputs": [
        {
          "data": {
            "application/vnd.jupyter.widget-view+json": {
              "model_id": "3d57191fdff94f04ad388ec05fa99ee9",
              "version_major": 2,
              "version_minor": 0
            },
            "text/plain": [
              "Downloading config.json:   0%|          | 0.00/69.7k [00:00<?, ?B/s]"
            ]
          },
          "metadata": {},
          "output_type": "display_data"
        },
        {
          "data": {
            "application/vnd.jupyter.widget-view+json": {
              "model_id": "c4825eb9ae634e209d75f37d60762400",
              "version_major": 2,
              "version_minor": 0
            },
            "text/plain": [
              "Downloading pytorch_model.bin:   0%|          | 0.00/346M [00:00<?, ?B/s]"
            ]
          },
          "metadata": {},
          "output_type": "display_data"
        }
      ],
      "source": [
        "save_path = Path(\"model.pch\")\n",
        "model = ViTForImageClassification.from_pretrained('google/vit-base-patch16-224')\n",
        "processor = ViTImageProcessor.from_pretrained('google/vit-base-patch16-224')\n",
        "\n",
        "# Freeze le model\n",
        "for parameter in  model.parameters() :\n",
        "  parameter.requires_grad = False\n",
        "\n",
        "# Changer la derniere couche\n",
        "nb_classe = 2\n",
        "model.classifier = nn.Linear(model.config.hidden_size, nb_classe)"
      ]
    },
    {
      "cell_type": "code",
      "execution_count": 201,
      "id": "0ae9f6b7",
      "metadata": {
        "id": "0ae9f6b7"
      },
      "outputs": [],
      "source": [
        "train_images, train_labels = load_dataset(test=False, color=False)\n",
        "test_images, test_labels = load_dataset(test=True, color=False)\n",
        "\n",
        "transform_data = transforms.Compose([\n",
        "    transforms.ToTensor(),\n",
        "    transforms.Normalize(mean=[0.5], std=[0.5]),\n",
        "])\n",
        "\n",
        "tensor_tr = torch.stack([transform_data(image) for image in train_images])\n",
        "tensor_ts = torch.stack([transform_data(image) for image in test_images])\n",
        "\n",
        "\n",
        "tensor_test = tensor_ts.expand(-1, 3, -1, -1).to(torch.float32)\n",
        "tensor_train = tensor_tr.expand(-1, 3, -1, -1).to(torch.float32)\n",
        "\n",
        "train_tensor = TensorDataset(tensor_train,torch.tensor(label_train, dtype = torch.long))\n",
        "test_tensor = TensorDataset(tensor_test,torch.tensor(label_test, dtype = torch.long))\n",
        "\n",
        "BATCH_SIZE = 32\n",
        "\n",
        "Train = DataLoader(train_tensor,shuffle=True, batch_size = BATCH_SIZE)\n",
        "Test = DataLoader(test_tensor,shuffle = False)"
      ]
    },
    {
      "cell_type": "code",
      "execution_count": 202,
      "id": "81d58d95",
      "metadata": {
        "id": "81d58d95"
      },
      "outputs": [],
      "source": [
        "loss = nn.CrossEntropyLoss()\n",
        "optimizer = optim.Adam(model.parameters(),lr = 1e-3)\n",
        "device = torch.device('cuda' if torch.cuda.is_available()  else 'cpu')"
      ]
    },
    {
      "cell_type": "code",
      "execution_count": 203,
      "id": "acd15b2e",
      "metadata": {
        "colab": {
          "base_uri": "https://localhost:8080/"
        },
        "id": "acd15b2e",
        "outputId": "14b7b39e-3b22-481d-f56b-c92bda0240ea"
      },
      "outputs": [
        {
          "name": "stderr",
          "output_type": "stream",
          "text": []
        }
      ],
      "source": [
        "num_epochs = 10\n",
        "model = model.to(device)\n",
        "accuracy_train = []\n",
        "loss_train = []\n",
        "\n",
        "accuracy_test = []\n",
        "loss_test = []\n",
        "\n",
        "for epoch in range(num_epochs):\n",
        "  acc_accuracy_train = 0\n",
        "  acc_accuracy_test = 0\n",
        "  acc_loss_train = 0\n",
        "  acc_loss_test = 0\n",
        "  data_train_tqdm = tqdm(Train,desc=f'Epoch {epoch + 1}/{num_epochs}', leave=False, dynamic_ncols=True)\n",
        "  \n",
        "  for data,label in data_train_tqdm:\n",
        "      # Forward pass\n",
        "      data = data.to(device)\n",
        "      label = label.to(device)\n",
        "      outputs = model(data)\n",
        "      prediction = outputs.logits\n",
        "      predict_final = torch.argmax(prediction, axis = 1)\n",
        "      acc_accuracy_train += accuracy(predict_final,label, task = \"BINARY\")\n",
        "      loss_ = loss(prediction, label)\n",
        "      acc_loss_train += loss_.item()\n",
        "      optimizer.zero_grad()\n",
        "      loss_.backward()\n",
        "      optimizer.step()\n",
        "      \n",
        "      if epoch %  3 == 0 :\n",
        "        with save_path.open('wb') as fp :\n",
        "          torch.save(model,fp)\n",
        "          \n",
        "  acc = (acc_accuracy_train / len(Train))\n",
        "  accuracy_train.append(acc)\n",
        "  loss_train.append(acc_loss_train)\n",
        "\n",
        "\n",
        "  with torch.no_grad() :\n",
        "    for data_test,label_test in Test :\n",
        "      data_test = data_test.to(device)\n",
        "      label_test = label_test.to(device)\n",
        "      output = model(data_test)\n",
        "      prediction = output.logits\n",
        "      acc_loss_test += loss(prediction,label_test).item()\n",
        "      acc_accuracy_test += accuracy(torch.argmax(prediction,axis = 1),label_test,task = \"BINARY\")\n",
        "      \n",
        "  accuracy_test.append(acc_accuracy_test/len(Test))\n",
        "  loss_test.append(acc_loss_test)"
      ]
    },
    {
      "cell_type": "code",
      "execution_count": 204,
      "id": "K89yJgDnQq-K",
      "metadata": {
        "id": "K89yJgDnQq-K"
      },
      "outputs": [],
      "source": [
        "list_acc_train = [acc.item() for acc in accuracy_train]\n",
        "list_acc_test = [acc.item() for acc in accuracy_test]"
      ]
    },
    {
      "cell_type": "code",
      "execution_count": 205,
      "id": "xKzseIhIXF_2",
      "metadata": {
        "colab": {
          "base_uri": "https://localhost:8080/",
          "height": 391
        },
        "id": "xKzseIhIXF_2",
        "outputId": "ea32d88a-0ea1-43a2-995c-5bd4b24e3dc6"
      },
      "outputs": [
        {
          "data": {
            "text/plain": [
              "[<matplotlib.lines.Line2D at 0x7dde68d83220>]"
            ]
          },
          "execution_count": 205,
          "metadata": {},
          "output_type": "execute_result"
        },
        {
          "data": {
            "image/png": "[encoded data removed]",
            "text/plain": [
              "<Figure size 1200x600 with 2 Axes>"
            ]
          },
          "metadata": {},
          "output_type": "display_data"
        }
      ],
      "source": [
        "plt.figure(figsize=(12, 6))\n",
        "epochs = range(1,num_epochs+1)\n",
        "\n",
        "plt.subplot(1,2,1)\n",
        "plt.plot(epochs,loss_train, label = \"train loss\")\n",
        "plt.plot(epochs,list_acc_train,label = \"accuracy train\")\n",
        "plt.subplot(1,2,2)\n",
        "plt.plot(epochs,loss_test, label = \"test loss\")\n",
        "plt.plot(epochs,list_acc_test,label = \"accuracy test\")\n"
      ]
    }
  ],
  "metadata": {
    "accelerator": "GPU",
    "colab": {
      "gpuType": "T4",
      "provenance": []
    },
    "kernelspec": {
      "display_name": "Python 3",
      "name": "python3"
    },
    "language_info": {
      "codemirror_mode": {
        "name": "ipython",
        "version": 3
      },
      "file_extension": ".py",
      "mimetype": "text/x-python",
      "name": "python",
      "nbconvert_exporter": "python",
      "pygments_lexer": "ipython3",
      "version": "3.9.12"
    }
  },
  "nbformat": 4,
  "nbformat_minor": 5
}

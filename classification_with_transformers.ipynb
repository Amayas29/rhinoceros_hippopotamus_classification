{
  "cells": [
    {
      "cell_type": "code",
      "execution_count": 1,
      "metadata": {
        "colab": {
          "base_uri": "https://localhost:8080/"
        },
        "id": "743ff2e5",
        "outputId": "a4a8213d-c396-4147-ab06-530082c0758a"
      },
      "outputs": [
        {
          "output_type": "stream",
          "name": "stdout",
          "text": [
            "Mounted at /content/drive\n"
          ]
        }
      ],
      "source": [
        "from google.colab import drive\n",
        "\n",
        "drive.mount(\"/content/drive\",force_remount=True)"
      ],
      "id": "743ff2e5"
    },
    {
      "cell_type": "code",
      "execution_count": 2,
      "metadata": {
        "colab": {
          "base_uri": "https://localhost:8080/"
        },
        "id": "MXuiI3-C8zwv",
        "outputId": "93e195e9-80da-4fe5-eb36-6377d66666aa"
      },
      "outputs": [
        {
          "output_type": "stream",
          "name": "stdout",
          "text": [
            "Mounted at /content/gdrive\n",
            "/content/gdrive/MyDrive/rhinoceros_hippopotamus_classification\n"
          ]
        }
      ],
      "source": [
        "import sys\n",
        "#sys.path.append(\"/content/drive/MyDrive/\")\n",
        "from google.colab import drive\n",
        "drive.mount('/content/gdrive')\n",
        "%cd gdrive/MyDrive/rhinoceros_hippopotamus_classification\n"
      ],
      "id": "MXuiI3-C8zwv"
    },
    {
      "cell_type": "code",
      "source": [
        "!pip install torchmetrics"
      ],
      "metadata": {
        "id": "yGIlllYaV2We",
        "outputId": "80651539-f59e-4031-d868-d8e904621782",
        "colab": {
          "base_uri": "https://localhost:8080/"
        }
      },
      "id": "yGIlllYaV2We",
      "execution_count": 3,
      "outputs": [
        {
          "output_type": "stream",
          "name": "stdout",
          "text": [
            "Requirement already satisfied: torchmetrics in /usr/local/lib/python3.10/dist-packages (1.3.0.post0)\n",
            "Requirement already satisfied: numpy>1.20.0 in /usr/local/lib/python3.10/dist-packages (from torchmetrics) (1.23.5)\n",
            "Requirement already satisfied: packaging>17.1 in /usr/local/lib/python3.10/dist-packages (from torchmetrics) (23.2)\n",
            "Requirement already satisfied: torch>=1.10.0 in /usr/local/lib/python3.10/dist-packages (from torchmetrics) (2.1.0+cu121)\n",
            "Requirement already satisfied: lightning-utilities>=0.8.0 in /usr/local/lib/python3.10/dist-packages (from torchmetrics) (0.10.1)\n",
            "Requirement already satisfied: setuptools in /usr/local/lib/python3.10/dist-packages (from lightning-utilities>=0.8.0->torchmetrics) (67.7.2)\n",
            "Requirement already satisfied: typing-extensions in /usr/local/lib/python3.10/dist-packages (from lightning-utilities>=0.8.0->torchmetrics) (4.5.0)\n",
            "Requirement already satisfied: filelock in /usr/local/lib/python3.10/dist-packages (from torch>=1.10.0->torchmetrics) (3.13.1)\n",
            "Requirement already satisfied: sympy in /usr/local/lib/python3.10/dist-packages (from torch>=1.10.0->torchmetrics) (1.12)\n",
            "Requirement already satisfied: networkx in /usr/local/lib/python3.10/dist-packages (from torch>=1.10.0->torchmetrics) (3.2.1)\n",
            "Requirement already satisfied: jinja2 in /usr/local/lib/python3.10/dist-packages (from torch>=1.10.0->torchmetrics) (3.1.3)\n",
            "Requirement already satisfied: fsspec in /usr/local/lib/python3.10/dist-packages (from torch>=1.10.0->torchmetrics) (2023.6.0)\n",
            "Requirement already satisfied: triton==2.1.0 in /usr/local/lib/python3.10/dist-packages (from torch>=1.10.0->torchmetrics) (2.1.0)\n",
            "Requirement already satisfied: MarkupSafe>=2.0 in /usr/local/lib/python3.10/dist-packages (from jinja2->torch>=1.10.0->torchmetrics) (2.1.4)\n",
            "Requirement already satisfied: mpmath>=0.19 in /usr/local/lib/python3.10/dist-packages (from sympy->torch>=1.10.0->torchmetrics) (1.3.0)\n"
          ]
        }
      ]
    },
    {
      "cell_type": "code",
      "execution_count": 4,
      "metadata": {
        "id": "5kbRA-io7D67",
        "colab": {
          "base_uri": "https://localhost:8080/"
        },
        "outputId": "8a957fe9-7a8c-4efd-ba3c-38a37d3ba9ed"
      },
      "outputs": [
        {
          "output_type": "stream",
          "name": "stdout",
          "text": [
            "/content/gdrive/MyDrive/rhinoceros_hippopotamus_classification/data\n"
          ]
        }
      ],
      "source": [
        "from transformers import ViTForImageClassification,ViTConfig, ViTImageProcessor\n",
        "import torch\n",
        "import numpy as np\n",
        "from torch import nn, optim\n",
        "from torch.utils.data import DataLoader,TensorDataset\n",
        "from torchvision import transforms\n",
        "from tqdm import tqdm\n",
        "from torchmetrics.functional import accuracy\n",
        "import matplotlib.pyplot as plt\n",
        "from pathlib import Path\n",
        "from torch.utils.data import random_split\n",
        "from sklearn.model_selection import train_test_split\n",
        "\n",
        "from utils import load_dataset\n",
        "%cd data"
      ],
      "id": "5kbRA-io7D67"
    },
    {
      "cell_type": "code",
      "execution_count": 5,
      "metadata": {
        "colab": {
          "base_uri": "https://localhost:8080/"
        },
        "id": "3kEOfFMqzatT",
        "outputId": "f4048a7a-8a7a-452a-95ee-d7e9673dd739"
      },
      "outputs": [
        {
          "output_type": "stream",
          "name": "stderr",
          "text": [
            "/usr/local/lib/python3.10/dist-packages/huggingface_hub/utils/_token.py:88: UserWarning: \n",
            "The secret `HF_TOKEN` does not exist in your Colab secrets.\n",
            "To authenticate with the Hugging Face Hub, create a token in your settings tab (https://huggingface.co/settings/tokens), set it as secret in your Google Colab and restart your session.\n",
            "You will be able to reuse this secret in all of your notebooks.\n",
            "Please note that authentication is recommended but still optional to access public models or datasets.\n",
            "  warnings.warn(\n"
          ]
        }
      ],
      "source": [
        "save_path = Path(\"model.pch\")\n",
        "model = ViTForImageClassification.from_pretrained('google/vit-base-patch16-224')\n",
        "processor = ViTImageProcessor.from_pretrained('google/vit-base-patch16-224')\n",
        "\n",
        "# Freeze le model\n",
        "for parameter in  model.parameters() :\n",
        "  parameter.requires_grad = False\n",
        "\n",
        "# Changer la derniere couche\n",
        "nb_classe = 2\n",
        "model.classifier = nn.Linear(model.config.hidden_size, nb_classe)"
      ],
      "id": "3kEOfFMqzatT"
    },
    {
      "cell_type": "code",
      "execution_count": 6,
      "metadata": {
        "id": "0ae9f6b7"
      },
      "outputs": [],
      "source": [
        "from sklearn.model_selection import train_test_split\n",
        "\n",
        "train_images, train_labels = load_dataset(test=False, color=False)\n",
        "test_images, test_labels = load_dataset(test=True, color=False)\n",
        "\n",
        "train_images, validation_images, train_labels, validation_labels = train_test_split(\n",
        "    train_images, train_labels, shuffle=True, test_size=0.2\n",
        ")\n",
        "\n",
        "transform_data = transforms.Compose([\n",
        "    transforms.ToTensor(),\n",
        "    transforms.Normalize(mean=[0.5], std=[0.5]),\n",
        "])\n",
        "\n",
        "tensor_tr = torch.stack([transform_data(image) for image in train_images])\n",
        "tensor_val = torch.stack([transform_data(image) for image in validation_images])\n",
        "tensor_ts = torch.stack([transform_data(image) for image in test_images])\n",
        "\n",
        "tensor_train = tensor_tr.expand(-1, 3, -1, -1).to(torch.float32)\n",
        "tensor_validation = tensor_val.expand(-1, 3, -1, -1).to(torch.float32)\n",
        "tensor_test = tensor_ts.expand(-1, 3, -1, -1).to(torch.float32)\n",
        "\n",
        "train_tensor = TensorDataset(tensor_train, torch.tensor(train_labels, dtype=torch.long))\n",
        "validation_tensor = TensorDataset(tensor_validation, torch.tensor(validation_labels, dtype=torch.long))\n",
        "test_tensor = TensorDataset(tensor_test, torch.tensor(test_labels, dtype=torch.long))\n",
        "\n",
        "BATCH_SIZE = 64\n",
        "\n",
        "Train = DataLoader(train_tensor, shuffle=True, batch_size=BATCH_SIZE)\n",
        "Validation = DataLoader(validation_tensor, shuffle=False, batch_size=BATCH_SIZE)\n",
        "Test = DataLoader(test_tensor, shuffle=False, batch_size=BATCH_SIZE)\n"
      ],
      "id": "0ae9f6b7"
    },
    {
      "cell_type": "code",
      "execution_count": 7,
      "metadata": {
        "id": "81d58d95"
      },
      "outputs": [],
      "source": [
        "loss = nn.CrossEntropyLoss()\n",
        "optimizer = optim.Adam(model.parameters(),lr = 1e-3)\n",
        "device = torch.device('cuda' if torch.cuda.is_available()  else 'cpu')"
      ],
      "id": "81d58d95"
    },
    {
      "cell_type": "code",
      "execution_count": 8,
      "metadata": {
        "id": "acd15b2e",
        "colab": {
          "base_uri": "https://localhost:8080/"
        },
        "outputId": "043481f0-cf93-4c70-b433-ed78bff5a70f"
      },
      "outputs": [
        {
          "output_type": "stream",
          "name": "stderr",
          "text": []
        }
      ],
      "source": [
        "num_epochs = 10\n",
        "model = model.to(device)\n",
        "accuracy_train = []\n",
        "loss_train = []\n",
        "\n",
        "accuracy_validation = []\n",
        "loss_validation = []\n",
        "\n",
        "for epoch in range(num_epochs):\n",
        "  acc_accuracy_train = 0\n",
        "  acc_accuracy_test = 0\n",
        "  acc_loss_train = 0\n",
        "  acc_loss_test = 0\n",
        "  data_train_tqdm = tqdm(Train,desc=f'Epoch {epoch + 1}/{num_epochs}', leave=False, dynamic_ncols=True)\n",
        "\n",
        "  for data,label in data_train_tqdm:\n",
        "      # Forward pass\n",
        "      data = data.to(device)\n",
        "      label = label.to(device)\n",
        "      outputs = model(data)\n",
        "      prediction = outputs.logits\n",
        "      predict_final = torch.argmax(prediction, axis = 1)\n",
        "      acc_accuracy_train += accuracy(predict_final,label, task = \"BINARY\")\n",
        "      loss_ = loss(prediction, label)\n",
        "      acc_loss_train += loss_.item()\n",
        "      optimizer.zero_grad()\n",
        "      loss_.backward()\n",
        "      optimizer.step()\n",
        "\n",
        "  if epoch +1 == num_epochs :\n",
        "    with save_path.open('wb') as fp :\n",
        "      torch.save(model,fp)\n",
        "\n",
        "  acc = (acc_accuracy_train / len(Train))\n",
        "  accuracy_train.append(acc)\n",
        "  loss_train.append(acc_loss_train)\n",
        "\n",
        "\n",
        "  with torch.no_grad() :\n",
        "    for data_val,label_test in Validation :\n",
        "      data_val = data_val.to(device)\n",
        "      label_test = label_test.to(device)\n",
        "      output = model(data_val)\n",
        "      prediction = output.logits\n",
        "      acc_loss_test += loss(prediction,label_test).item()\n",
        "      acc_accuracy_test += accuracy(torch.argmax(prediction,axis = 1),label_test,task = \"BINARY\")\n",
        "\n",
        "  accuracy_validation.append(acc_accuracy_test/len(Validation))\n",
        "  loss_validation.append(acc_loss_test)"
      ],
      "id": "acd15b2e"
    },
    {
      "cell_type": "code",
      "execution_count": 9,
      "metadata": {
        "id": "K89yJgDnQq-K"
      },
      "outputs": [],
      "source": [
        "list_acc_train = [acc.item() for acc in accuracy_train]\n",
        "list_acc_val = [acc.item() for acc in accuracy_validation]"
      ],
      "id": "K89yJgDnQq-K"
    },
    {
      "cell_type": "code",
      "execution_count": 17,
      "metadata": {
        "id": "xKzseIhIXF_2",
        "colab": {
          "base_uri": "https://localhost:8080/",
          "height": 604
        },
        "outputId": "19ed8057-7e21-44db-ecb2-2a373bad9b96"
      },
      "outputs": [
        {
          "output_type": "display_data",
          "data": {
            "text/plain": [
              "<Figure size 1500x600 with 2 Axes>"
            ],
            "image/png": "[encoded data removed]"
          },
          "metadata": {}
        }
      ],
      "source": [
        "epochs = range(1,num_epochs+1)\n",
        "plt.figure(figsize=(15, 6))\n",
        "plt.subplot(1, 2, 1)  # 2 rows, 1 column, this is the first subplot\n",
        "plt.plot(epochs, loss_train, label='Train Loss')\n",
        "plt.plot(epochs, loss_validation, label='Validation Loss', linestyle='--')\n",
        "plt.xlabel('Époques')\n",
        "plt.ylabel('Perte')\n",
        "plt.legend()\n",
        "\n",
        "plt.subplot(1, 2, 2)  # 2 rows, 1 column, this is the second subplot\n",
        "plt.plot(epochs, list_acc_train, label='Train Accuracy')\n",
        "plt.plot(epochs, list_acc_val, label='Validation Accuracy', linestyle='--')\n",
        "plt.xlabel('Époques')\n",
        "plt.ylabel('Précision')\n",
        "plt.legend()\n",
        "\n",
        "# Subplot for Loss\n",
        "\n",
        "plt.tight_layout()\n",
        "plt.savefig('Loss_Acc_VIT_No_Color.png')\n",
        "plt.show()"
      ],
      "id": "xKzseIhIXF_2"
    },
    {
      "cell_type": "code",
      "execution_count": 11,
      "metadata": {
        "id": "3vaIWqcvYA9E",
        "colab": {
          "base_uri": "https://localhost:8080/"
        },
        "outputId": "d6f36d60-a346-41ac-861c-f44e7c3955bf"
      },
      "outputs": [
        {
          "output_type": "stream",
          "name": "stdout",
          "text": [
            "l accuracy de test est de : 1.0\n"
          ]
        }
      ],
      "source": [
        "tensor_test = tensor_test.to(device)\n",
        "prediction = torch.argmax(model(tensor_test).logits,dim = 1)\n",
        "accuracy_test = accuracy(prediction,torch.tensor(test_labels, dtype=torch.long,device = device),task = \"BINARY\")\n",
        "print('l accuracy de test est de :', accuracy_test.item())"
      ],
      "id": "3vaIWqcvYA9E"
    }
  ],
  "metadata": {
    "accelerator": "GPU",
    "colab": {
      "provenance": []
    },
    "kernelspec": {
      "display_name": "Python 3",
      "name": "python3"
    },
    "language_info": {
      "codemirror_mode": {
        "name": "ipython",
        "version": 3
      },
      "file_extension": ".py",
      "mimetype": "text/x-python",
      "name": "python",
      "nbconvert_exporter": "python",
      "pygments_lexer": "ipython3",
      "version": "3.9.12"
    }
  },
  "nbformat": 4,
  "nbformat_minor": 5
}